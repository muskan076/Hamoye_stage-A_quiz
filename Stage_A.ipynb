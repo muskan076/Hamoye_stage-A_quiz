{
 "cells": [
  {
   "cell_type": "markdown",
   "id": "6faf3cb9",
   "metadata": {},
   "source": [
    "# Stage - A Quiz answers"
   ]
  },
  {
   "cell_type": "markdown",
   "id": "3f9e5374",
   "metadata": {},
   "source": [
    "## Importing important libraries"
   ]
  },
  {
   "cell_type": "code",
   "execution_count": 1,
   "id": "968c74c2",
   "metadata": {},
   "outputs": [],
   "source": [
    "import pandas as pd\n",
    "import numpy as np\n",
    "import seaborn as sns\n",
    "import matplotlib.pyplot as plt\n",
    "import warnings\n",
    "warnings.filterwarnings(\"ignore\")"
   ]
  },
  {
   "cell_type": "code",
   "execution_count": 2,
   "id": "56c82855",
   "metadata": {},
   "outputs": [],
   "source": [
    "## loading the dataset\n",
    "df = pd.read_csv('foodbalance.csv',encoding = 'latin-1')"
   ]
  },
  {
   "cell_type": "code",
   "execution_count": 3,
   "id": "e653a50e",
   "metadata": {},
   "outputs": [
    {
     "data": {
      "text/html": [
       "<div>\n",
       "<style scoped>\n",
       "    .dataframe tbody tr th:only-of-type {\n",
       "        vertical-align: middle;\n",
       "    }\n",
       "\n",
       "    .dataframe tbody tr th {\n",
       "        vertical-align: top;\n",
       "    }\n",
       "\n",
       "    .dataframe thead th {\n",
       "        text-align: right;\n",
       "    }\n",
       "</style>\n",
       "<table border=\"1\" class=\"dataframe\">\n",
       "  <thead>\n",
       "    <tr style=\"text-align: right;\">\n",
       "      <th></th>\n",
       "      <th>Area Code</th>\n",
       "      <th>Area</th>\n",
       "      <th>Item Code</th>\n",
       "      <th>Item</th>\n",
       "      <th>Element Code</th>\n",
       "      <th>Element</th>\n",
       "      <th>Unit</th>\n",
       "      <th>Y2014</th>\n",
       "      <th>Y2015</th>\n",
       "      <th>Y2016</th>\n",
       "      <th>Y2017</th>\n",
       "      <th>Y2018</th>\n",
       "    </tr>\n",
       "  </thead>\n",
       "  <tbody>\n",
       "    <tr>\n",
       "      <th>0</th>\n",
       "      <td>4</td>\n",
       "      <td>Algeria</td>\n",
       "      <td>2501</td>\n",
       "      <td>Population</td>\n",
       "      <td>511</td>\n",
       "      <td>Total Population - Both sexes</td>\n",
       "      <td>1000 persons</td>\n",
       "      <td>38924.00</td>\n",
       "      <td>39728.00</td>\n",
       "      <td>40551.00</td>\n",
       "      <td>41389.00</td>\n",
       "      <td>42228.00</td>\n",
       "    </tr>\n",
       "    <tr>\n",
       "      <th>1</th>\n",
       "      <td>4</td>\n",
       "      <td>Algeria</td>\n",
       "      <td>2501</td>\n",
       "      <td>Population</td>\n",
       "      <td>5301</td>\n",
       "      <td>Domestic supply quantity</td>\n",
       "      <td>1000 tonnes</td>\n",
       "      <td>0.00</td>\n",
       "      <td>0.00</td>\n",
       "      <td>0.00</td>\n",
       "      <td>0.00</td>\n",
       "      <td>0.00</td>\n",
       "    </tr>\n",
       "    <tr>\n",
       "      <th>2</th>\n",
       "      <td>4</td>\n",
       "      <td>Algeria</td>\n",
       "      <td>2901</td>\n",
       "      <td>Grand Total</td>\n",
       "      <td>664</td>\n",
       "      <td>Food supply (kcal/capita/day)</td>\n",
       "      <td>kcal/capita/day</td>\n",
       "      <td>3377.00</td>\n",
       "      <td>3379.00</td>\n",
       "      <td>3372.00</td>\n",
       "      <td>3341.00</td>\n",
       "      <td>3322.00</td>\n",
       "    </tr>\n",
       "    <tr>\n",
       "      <th>3</th>\n",
       "      <td>4</td>\n",
       "      <td>Algeria</td>\n",
       "      <td>2901</td>\n",
       "      <td>Grand Total</td>\n",
       "      <td>674</td>\n",
       "      <td>Protein supply quantity (g/capita/day)</td>\n",
       "      <td>g/capita/day</td>\n",
       "      <td>94.90</td>\n",
       "      <td>94.35</td>\n",
       "      <td>94.72</td>\n",
       "      <td>92.82</td>\n",
       "      <td>91.83</td>\n",
       "    </tr>\n",
       "    <tr>\n",
       "      <th>4</th>\n",
       "      <td>4</td>\n",
       "      <td>Algeria</td>\n",
       "      <td>2901</td>\n",
       "      <td>Grand Total</td>\n",
       "      <td>684</td>\n",
       "      <td>Fat supply quantity (g/capita/day)</td>\n",
       "      <td>g/capita/day</td>\n",
       "      <td>80.06</td>\n",
       "      <td>79.36</td>\n",
       "      <td>77.40</td>\n",
       "      <td>80.19</td>\n",
       "      <td>77.28</td>\n",
       "    </tr>\n",
       "  </tbody>\n",
       "</table>\n",
       "</div>"
      ],
      "text/plain": [
       "   Area Code     Area  Item Code         Item  Element Code  \\\n",
       "0          4  Algeria       2501   Population           511   \n",
       "1          4  Algeria       2501   Population          5301   \n",
       "2          4  Algeria       2901  Grand Total           664   \n",
       "3          4  Algeria       2901  Grand Total           674   \n",
       "4          4  Algeria       2901  Grand Total           684   \n",
       "\n",
       "                                  Element             Unit     Y2014  \\\n",
       "0           Total Population - Both sexes     1000 persons  38924.00   \n",
       "1                Domestic supply quantity      1000 tonnes      0.00   \n",
       "2           Food supply (kcal/capita/day)  kcal/capita/day   3377.00   \n",
       "3  Protein supply quantity (g/capita/day)     g/capita/day     94.90   \n",
       "4      Fat supply quantity (g/capita/day)     g/capita/day     80.06   \n",
       "\n",
       "      Y2015     Y2016     Y2017     Y2018  \n",
       "0  39728.00  40551.00  41389.00  42228.00  \n",
       "1      0.00      0.00      0.00      0.00  \n",
       "2   3379.00   3372.00   3341.00   3322.00  \n",
       "3     94.35     94.72     92.82     91.83  \n",
       "4     79.36     77.40     80.19     77.28  "
      ]
     },
     "execution_count": 3,
     "metadata": {},
     "output_type": "execute_result"
    }
   ],
   "source": [
    "df.head()"
   ]
  },
  {
   "cell_type": "code",
   "execution_count": 4,
   "id": "9df37351",
   "metadata": {},
   "outputs": [
    {
     "name": "stdout",
     "output_type": "stream",
     "text": [
      "<class 'pandas.core.frame.DataFrame'>\n",
      "RangeIndex: 60943 entries, 0 to 60942\n",
      "Data columns (total 12 columns):\n",
      " #   Column        Non-Null Count  Dtype  \n",
      "---  ------        --------------  -----  \n",
      " 0   Area Code     60943 non-null  int64  \n",
      " 1   Area          60943 non-null  object \n",
      " 2   Item Code     60943 non-null  int64  \n",
      " 3   Item          60943 non-null  object \n",
      " 4   Element Code  60943 non-null  int64  \n",
      " 5   Element       60943 non-null  object \n",
      " 6   Unit          60943 non-null  object \n",
      " 7   Y2014         59354 non-null  float64\n",
      " 8   Y2015         59395 non-null  float64\n",
      " 9   Y2016         59408 non-null  float64\n",
      " 10  Y2017         59437 non-null  float64\n",
      " 11  Y2018         59507 non-null  float64\n",
      "dtypes: float64(5), int64(3), object(4)\n",
      "memory usage: 5.6+ MB\n"
     ]
    }
   ],
   "source": [
    "df.info()"
   ]
  },
  {
   "cell_type": "markdown",
   "id": "e2e918cc",
   "metadata": {},
   "source": [
    "## 1. To find out the number of rows and columns"
   ]
  },
  {
   "cell_type": "code",
   "execution_count": 5,
   "id": "05c3e92b",
   "metadata": {},
   "outputs": [
    {
     "data": {
      "text/plain": [
       "(60943, 12)"
      ]
     },
     "execution_count": 5,
     "metadata": {},
     "output_type": "execute_result"
    }
   ],
   "source": [
    "#1\n",
    "df.shape    # d option is correct"
   ]
  },
  {
   "cell_type": "markdown",
   "id": "5d2d2fb1",
   "metadata": {},
   "source": [
    "*  pd.length(df) --> Pandas library has no attribute length and is   wrong command for finding the number of rows and columns.\n",
    "* df.shape() command is also wrong and will throw error.\n",
    "* len(df) only returns the number of rows present in the pandas DataFrame and doesn't return nuumber of columns present in the dataset.\n",
    "* **df.shape** is correct command. It returns both number of columns and rows present in the dataset."
   ]
  },
  {
   "cell_type": "markdown",
   "id": "4e7f0e00",
   "metadata": {},
   "source": [
    "## 2. Select columns ‘Y2017’ and ‘Area’, Perform a groupby operation on ‘Area’.  Which of these Areas had the 7th lowest sum in 2017?"
   ]
  },
  {
   "cell_type": "code",
   "execution_count": 6,
   "id": "d95a4192",
   "metadata": {},
   "outputs": [],
   "source": [
    "year = df[['Y2017','Area']]"
   ]
  },
  {
   "cell_type": "code",
   "execution_count": 7,
   "id": "a7049e54",
   "metadata": {},
   "outputs": [
    {
     "data": {
      "text/html": [
       "<div>\n",
       "<style scoped>\n",
       "    .dataframe tbody tr th:only-of-type {\n",
       "        vertical-align: middle;\n",
       "    }\n",
       "\n",
       "    .dataframe tbody tr th {\n",
       "        vertical-align: top;\n",
       "    }\n",
       "\n",
       "    .dataframe thead th {\n",
       "        text-align: right;\n",
       "    }\n",
       "</style>\n",
       "<table border=\"1\" class=\"dataframe\">\n",
       "  <thead>\n",
       "    <tr style=\"text-align: right;\">\n",
       "      <th></th>\n",
       "      <th>Y2017</th>\n",
       "      <th>Area</th>\n",
       "    </tr>\n",
       "  </thead>\n",
       "  <tbody>\n",
       "    <tr>\n",
       "      <th>0</th>\n",
       "      <td>41389.00</td>\n",
       "      <td>Algeria</td>\n",
       "    </tr>\n",
       "    <tr>\n",
       "      <th>1</th>\n",
       "      <td>0.00</td>\n",
       "      <td>Algeria</td>\n",
       "    </tr>\n",
       "    <tr>\n",
       "      <th>2</th>\n",
       "      <td>3341.00</td>\n",
       "      <td>Algeria</td>\n",
       "    </tr>\n",
       "    <tr>\n",
       "      <th>3</th>\n",
       "      <td>92.82</td>\n",
       "      <td>Algeria</td>\n",
       "    </tr>\n",
       "    <tr>\n",
       "      <th>4</th>\n",
       "      <td>80.19</td>\n",
       "      <td>Algeria</td>\n",
       "    </tr>\n",
       "  </tbody>\n",
       "</table>\n",
       "</div>"
      ],
      "text/plain": [
       "      Y2017     Area\n",
       "0  41389.00  Algeria\n",
       "1      0.00  Algeria\n",
       "2   3341.00  Algeria\n",
       "3     92.82  Algeria\n",
       "4     80.19  Algeria"
      ]
     },
     "execution_count": 7,
     "metadata": {},
     "output_type": "execute_result"
    }
   ],
   "source": [
    "year.head()"
   ]
  },
  {
   "cell_type": "code",
   "execution_count": 8,
   "id": "27ec1011",
   "metadata": {},
   "outputs": [],
   "source": [
    "year_1 = year.groupby('Area').sum().reset_index()"
   ]
  },
  {
   "cell_type": "code",
   "execution_count": 9,
   "id": "62d8d0f2",
   "metadata": {},
   "outputs": [
    {
     "data": {
      "text/html": [
       "<div>\n",
       "<style scoped>\n",
       "    .dataframe tbody tr th:only-of-type {\n",
       "        vertical-align: middle;\n",
       "    }\n",
       "\n",
       "    .dataframe tbody tr th {\n",
       "        vertical-align: top;\n",
       "    }\n",
       "\n",
       "    .dataframe thead th {\n",
       "        text-align: right;\n",
       "    }\n",
       "</style>\n",
       "<table border=\"1\" class=\"dataframe\">\n",
       "  <thead>\n",
       "    <tr style=\"text-align: right;\">\n",
       "      <th></th>\n",
       "      <th>Area</th>\n",
       "      <th>Y2017</th>\n",
       "    </tr>\n",
       "  </thead>\n",
       "  <tbody>\n",
       "    <tr>\n",
       "      <th>0</th>\n",
       "      <td>Sudan (former)</td>\n",
       "      <td>0.00</td>\n",
       "    </tr>\n",
       "    <tr>\n",
       "      <th>1</th>\n",
       "      <td>Ethiopia PDR</td>\n",
       "      <td>0.00</td>\n",
       "    </tr>\n",
       "    <tr>\n",
       "      <th>2</th>\n",
       "      <td>Comoros</td>\n",
       "      <td>59.84</td>\n",
       "    </tr>\n",
       "    <tr>\n",
       "      <th>3</th>\n",
       "      <td>Seychelles</td>\n",
       "      <td>442.34</td>\n",
       "    </tr>\n",
       "    <tr>\n",
       "      <th>4</th>\n",
       "      <td>Sao Tome and Principe</td>\n",
       "      <td>12662.63</td>\n",
       "    </tr>\n",
       "    <tr>\n",
       "      <th>5</th>\n",
       "      <td>Cabo Verde</td>\n",
       "      <td>14650.74</td>\n",
       "    </tr>\n",
       "    <tr>\n",
       "      <th>6</th>\n",
       "      <td>Guinea-Bissau</td>\n",
       "      <td>19102.77</td>\n",
       "    </tr>\n",
       "  </tbody>\n",
       "</table>\n",
       "</div>"
      ],
      "text/plain": [
       "                    Area     Y2017\n",
       "0         Sudan (former)      0.00\n",
       "1           Ethiopia PDR      0.00\n",
       "2                Comoros     59.84\n",
       "3             Seychelles    442.34\n",
       "4  Sao Tome and Principe  12662.63\n",
       "5             Cabo Verde  14650.74\n",
       "6          Guinea-Bissau  19102.77"
      ]
     },
     "execution_count": 9,
     "metadata": {},
     "output_type": "execute_result"
    }
   ],
   "source": [
    "year_1 = year_1.sort_values(by = 'Y2017').reset_index(drop = True)\n",
    "year_1.head(7)"
   ]
  },
  {
   "cell_type": "code",
   "execution_count": 10,
   "id": "47020d1f",
   "metadata": {},
   "outputs": [
    {
     "data": {
      "text/plain": [
       "Area     Guinea-Bissau\n",
       "Y2017         19102.77\n",
       "Name: 6, dtype: object"
      ]
     },
     "execution_count": 10,
     "metadata": {},
     "output_type": "execute_result"
    }
   ],
   "source": [
    "year_1.iloc[6]"
   ]
  },
  {
   "cell_type": "markdown",
   "id": "b2c1f9ca",
   "metadata": {},
   "source": [
    "### Hence **Guinea-Bissau** is correct option."
   ]
  },
  {
   "cell_type": "markdown",
   "id": "ac1ca6b3",
   "metadata": {},
   "source": [
    "### 3. What is the total sum of Wine produced in 2015 and 2018 respectively?"
   ]
  },
  {
   "cell_type": "code",
   "execution_count": 11,
   "id": "7109b6d3",
   "metadata": {},
   "outputs": [
    {
     "data": {
      "text/plain": [
       "Y2015    4251.81\n",
       "Y2018    4039.32\n",
       "Name: Wine, dtype: float64"
      ]
     },
     "execution_count": 11,
     "metadata": {},
     "output_type": "execute_result"
    }
   ],
   "source": [
    "wine = df.groupby('Item')['Y2015','Y2018'].sum()\n",
    "wine.loc['Wine']"
   ]
  },
  {
   "cell_type": "markdown",
   "id": "eac56e19",
   "metadata": {},
   "source": [
    "### Hence for year 2015 and 2017 the total sum of wine produced are 4251.81 and 4039.32 respecrtively."
   ]
  },
  {
   "cell_type": "markdown",
   "id": "da135472",
   "metadata": {},
   "source": [
    "## 4. To find the number of unique countries in the dataset, we will use nuinque() \n"
   ]
  },
  {
   "cell_type": "code",
   "execution_count": 12,
   "id": "311aa622",
   "metadata": {},
   "outputs": [
    {
     "data": {
      "text/plain": [
       "49"
      ]
     },
     "execution_count": 12,
     "metadata": {},
     "output_type": "execute_result"
    }
   ],
   "source": [
    "df['Area'].nunique()"
   ]
  },
  {
   "cell_type": "code",
   "execution_count": 13,
   "id": "71cf1c5f",
   "metadata": {},
   "outputs": [
    {
     "data": {
      "text/plain": [
       "49"
      ]
     },
     "execution_count": 13,
     "metadata": {},
     "output_type": "execute_result"
    }
   ],
   "source": [
    "## OR\n",
    "len(df['Area'].value_counts())"
   ]
  },
  {
   "cell_type": "markdown",
   "id": "48e7ac5c",
   "metadata": {},
   "source": [
    "## 5.  Which of the following is a python inbuilt module?\n",
    "\n",
    "\n",
    "For all other module except for math module, we have to install them first by using !pip install module_name and then only we can import them but we can directly import **math** module since it is inbuilt module in python.\n",
    "### Hence Math is correct option."
   ]
  },
  {
   "cell_type": "code",
   "execution_count": 14,
   "id": "4a60b0af",
   "metadata": {},
   "outputs": [],
   "source": [
    "import math  # directly imported math module\n",
    "# but for other libraries\n",
    "# !pip install pandas\n",
    "# !pip install seaborn \n",
    "# and then only we can import"
   ]
  },
  {
   "cell_type": "markdown",
   "id": "d55cf28c",
   "metadata": {},
   "source": [
    "### 6. What would be the output for?\n"
   ]
  },
  {
   "cell_type": "code",
   "execution_count": 15,
   "id": "82838ce2",
   "metadata": {},
   "outputs": [
    {
     "data": {
      "text/plain": [
       "'e'"
      ]
     },
     "execution_count": 15,
     "metadata": {},
     "output_type": "execute_result"
    }
   ],
   "source": [
    "S = [['him', 'sell'], [90, 28, 43]]\n",
    "\n",
    "S[0][1][1]"
   ]
  },
  {
   "cell_type": "markdown",
   "id": "f8a0d752",
   "metadata": {},
   "source": [
    "* S[0] access to first item of the list i.e. ['him', 'sell']\n",
    "* S[0][1] will give second element of the ['him', 'sell'] list i.e. 'sell' \n",
    "* Finally S[0][1][1] will give second element of string 'sell' i.e. **'e'**\n",
    "* Note that in python index starts with 0"
   ]
  },
  {
   "cell_type": "markdown",
   "id": "940a7927",
   "metadata": {},
   "source": [
    "### 7. A pandas Dataframe with dimensions (100,3) has how many features and observations?"
   ]
  },
  {
   "cell_type": "markdown",
   "id": "04060c07",
   "metadata": {},
   "source": [
    "It means dataset has 3 features and 100 observations. For instance df.shape returns (60943, 12) which means it has 60943 rows and 12 features."
   ]
  },
  {
   "cell_type": "code",
   "execution_count": 16,
   "id": "c6e5135b",
   "metadata": {},
   "outputs": [
    {
     "data": {
      "text/plain": [
       "(60943, 12)"
      ]
     },
     "execution_count": 16,
     "metadata": {},
     "output_type": "execute_result"
    }
   ],
   "source": [
    "df.shape"
   ]
  },
  {
   "cell_type": "markdown",
   "id": "fdf4664d",
   "metadata": {},
   "source": [
    "### 8. Which year had the least correlation with ‘Element Code’?\n",
    "\n"
   ]
  },
  {
   "cell_type": "code",
   "execution_count": 17,
   "id": "ba9af59a",
   "metadata": {},
   "outputs": [
    {
     "data": {
      "text/plain": [
       "<AxesSubplot:>"
      ]
     },
     "execution_count": 17,
     "metadata": {},
     "output_type": "execute_result"
    },
    {
     "data": {
      "image/png": "[encoded data removed]",
      "text/plain": [
       "<Figure size 720x576 with 2 Axes>"
      ]
     },
     "metadata": {
      "needs_background": "light"
     },
     "output_type": "display_data"
    }
   ],
   "source": [
    "plt.figure(figsize = (10,8))\n",
    "df_1=df[['Element Code','Y2014','Y2015','Y2016','Y2017','Y2018']]\n",
    "sns.heatmap(df_1.corr(),annot = True,linewidths=0.5)"
   ]
  },
  {
   "cell_type": "markdown",
   "id": "426245f2",
   "metadata": {},
   "source": [
    "Clearly Element Code has least correlation with year *2016*. Hence, **2016** is correct option.\n"
   ]
  },
  {
   "cell_type": "markdown",
   "id": "3d79d5fa",
   "metadata": {},
   "source": [
    "### 9. Perform a groupby operation on ‘Element’.  What is the total number of the sum of Processing in 2017?\n",
    "\n"
   ]
  },
  {
   "cell_type": "code",
   "execution_count": 18,
   "id": "81dac2fb",
   "metadata": {},
   "outputs": [
    {
     "data": {
      "text/plain": [
       "292836.0"
      ]
     },
     "execution_count": 18,
     "metadata": {},
     "output_type": "execute_result"
    }
   ],
   "source": [
    "df.groupby('Element')['Y2017'].sum()['Processing']"
   ]
  },
  {
   "cell_type": "markdown",
   "id": "fc28bf6d",
   "metadata": {},
   "source": [
    "Hence  the total number of the sum of Processing in 2017 is **292836.0**"
   ]
  },
  {
   "cell_type": "markdown",
   "id": "0a9917b4",
   "metadata": {},
   "source": [
    "### 10.  How to assign element 8 from the list to a variable x?\n",
    "\n"
   ]
  },
  {
   "cell_type": "code",
   "execution_count": 19,
   "id": "69f358c9",
   "metadata": {},
   "outputs": [],
   "source": [
    "y = [(2, 4), (7, 8), (1, 5, 9)] ## y is a list of tuples"
   ]
  },
  {
   "cell_type": "markdown",
   "id": "3540adb3",
   "metadata": {},
   "source": [
    "* 8 is present in the second element of the list i.e present at index 1\n",
    "* y[1] will give access to (7,8)\n",
    "* Now to get 8 from a tuple we will have to give y[1][1] since it is second element of (7,8)"
   ]
  },
  {
   "cell_type": "code",
   "execution_count": 20,
   "id": "1e032933",
   "metadata": {},
   "outputs": [],
   "source": [
    "x = y[1][1]"
   ]
  },
  {
   "cell_type": "code",
   "execution_count": 21,
   "id": "e4dc8dc0",
   "metadata": {},
   "outputs": [
    {
     "data": {
      "text/plain": [
       "8"
      ]
     },
     "execution_count": 21,
     "metadata": {},
     "output_type": "execute_result"
    }
   ],
   "source": [
    "x"
   ]
  },
  {
   "cell_type": "markdown",
   "id": "8a6684ef",
   "metadata": {},
   "source": [
    "**Hence y[1][1] is correct option.**"
   ]
  },
  {
   "cell_type": "markdown",
   "id": "243fe39e",
   "metadata": {},
   "source": [
    "## 11. Which of the following dataframe methods can be used to access elements across rows and columns?\n",
    "\n"
   ]
  },
  {
   "cell_type": "code",
   "execution_count": 22,
   "id": "001f95c9",
   "metadata": {},
   "outputs": [
    {
     "data": {
      "text/plain": [
       "0         Algeria\n",
       "1         Algeria\n",
       "2         Algeria\n",
       "3         Algeria\n",
       "4         Algeria\n",
       "           ...   \n",
       "60938    Zimbabwe\n",
       "60939    Zimbabwe\n",
       "60940    Zimbabwe\n",
       "60941    Zimbabwe\n",
       "60942    Zimbabwe\n",
       "Name: Area, Length: 60943, dtype: object"
      ]
     },
     "execution_count": 22,
     "metadata": {},
     "output_type": "execute_result"
    }
   ],
   "source": [
    "df.iloc[:,1]    ### df.iloc[row_index, column_index]"
   ]
  },
  {
   "cell_type": "code",
   "execution_count": 23,
   "id": "7306cec6",
   "metadata": {},
   "outputs": [
    {
     "data": {
      "text/plain": [
       "Area Code                                        4\n",
       "Area                                       Algeria\n",
       "Item Code                                     2903\n",
       "Item                              Vegetal Products\n",
       "Element Code                                   684\n",
       "Element         Fat supply quantity (g/capita/day)\n",
       "Unit                                  g/capita/day\n",
       "Y2014                                        53.84\n",
       "Y2015                                        54.72\n",
       "Y2016                                        52.04\n",
       "Y2017                                        55.59\n",
       "Y2018                                        54.57\n",
       "Name: 7, dtype: object"
      ]
     },
     "execution_count": 23,
     "metadata": {},
     "output_type": "execute_result"
    }
   ],
   "source": [
    "df.iloc[7]   # not df.iloc()"
   ]
  },
  {
   "cell_type": "code",
   "execution_count": 24,
   "id": "f4c68406",
   "metadata": {},
   "outputs": [
    {
     "data": {
      "text/plain": [
       "Area Code                                        4\n",
       "Area                                       Algeria\n",
       "Item Code                                     2903\n",
       "Item                              Vegetal Products\n",
       "Element Code                                   684\n",
       "Element         Fat supply quantity (g/capita/day)\n",
       "Unit                                  g/capita/day\n",
       "Y2014                                        53.84\n",
       "Y2015                                        54.72\n",
       "Y2016                                        52.04\n",
       "Y2017                                        55.59\n",
       "Y2018                                        54.57\n",
       "Name: 7, dtype: object"
      ]
     },
     "execution_count": 24,
     "metadata": {},
     "output_type": "execute_result"
    }
   ],
   "source": [
    "#  similarly,\n",
    "df.loc[7]  ### not df.loc(7)"
   ]
  },
  {
   "cell_type": "markdown",
   "id": "79e3f5be",
   "metadata": {},
   "source": [
    "### df.iloc[:] is correct option."
   ]
  },
  {
   "cell_type": "markdown",
   "id": "8738e170",
   "metadata": {},
   "source": [
    "### 12. total Protein supply quantity in Madagascar in 2015?\n",
    "\n"
   ]
  },
  {
   "cell_type": "code",
   "execution_count": 25,
   "id": "bea0ead7",
   "metadata": {},
   "outputs": [],
   "source": [
    "a = df.groupby(['Area','Element'])['Y2015'].sum().reset_index()"
   ]
  },
  {
   "cell_type": "code",
   "execution_count": 26,
   "id": "ad6a5ccf",
   "metadata": {},
   "outputs": [
    {
     "data": {
      "text/html": [
       "<div>\n",
       "<style scoped>\n",
       "    .dataframe tbody tr th:only-of-type {\n",
       "        vertical-align: middle;\n",
       "    }\n",
       "\n",
       "    .dataframe tbody tr th {\n",
       "        vertical-align: top;\n",
       "    }\n",
       "\n",
       "    .dataframe thead th {\n",
       "        text-align: right;\n",
       "    }\n",
       "</style>\n",
       "<table border=\"1\" class=\"dataframe\">\n",
       "  <thead>\n",
       "    <tr style=\"text-align: right;\">\n",
       "      <th></th>\n",
       "      <th>Area</th>\n",
       "      <th>Element</th>\n",
       "      <th>Y2015</th>\n",
       "    </tr>\n",
       "  </thead>\n",
       "  <tbody>\n",
       "    <tr>\n",
       "      <th>423</th>\n",
       "      <td>Madagascar</td>\n",
       "      <td>Protein supply quantity (g/capita/day)</td>\n",
       "      <td>173.05</td>\n",
       "    </tr>\n",
       "  </tbody>\n",
       "</table>\n",
       "</div>"
      ],
      "text/plain": [
       "           Area                                 Element   Y2015\n",
       "423  Madagascar  Protein supply quantity (g/capita/day)  173.05"
      ]
     },
     "execution_count": 26,
     "metadata": {},
     "output_type": "execute_result"
    }
   ],
   "source": [
    "a = a[a['Area'] == 'Madagascar']\n",
    "a[a['Element'] == 'Protein supply quantity (g/capita/day)']"
   ]
  },
  {
   "cell_type": "markdown",
   "id": "b5725f8a",
   "metadata": {},
   "source": [
    "Hence, The total Protein supply quantity in Madagascar in 2015 is **173.05**"
   ]
  },
  {
   "cell_type": "markdown",
   "id": "558e25fd",
   "metadata": {},
   "source": [
    "### 13. What is the total number and percentage of missing data in 2014 to 3 decimal places?"
   ]
  },
  {
   "cell_type": "code",
   "execution_count": 27,
   "id": "231648c0",
   "metadata": {},
   "outputs": [
    {
     "name": "stdout",
     "output_type": "stream",
     "text": [
      "Total number of missing values in 2014 : \n",
      "1589\n",
      "=========================================\n",
      "Total percentage of missing values in 2014 : \n",
      "2.607%\n"
     ]
    }
   ],
   "source": [
    "print(\"Total number of missing values in 2014 : \")\n",
    "print(df['Y2014'].isnull().sum())\n",
    "print('=========================================')\n",
    "print(\"Total percentage of missing values in 2014 : \")\n",
    "\n",
    "print(f\"{round(df['Y2014'].isnull().sum()/df.shape[0] *100,3)}%\")"
   ]
  },
  {
   "cell_type": "markdown",
   "id": "5616df1e",
   "metadata": {},
   "source": [
    "### 14. mean and standard deviation across the whole dataset for the year 2017"
   ]
  },
  {
   "cell_type": "code",
   "execution_count": 28,
   "id": "e9a9b9b6",
   "metadata": {},
   "outputs": [
    {
     "name": "stdout",
     "output_type": "stream",
     "text": [
      "Standard deviation : 1671.86\n"
     ]
    }
   ],
   "source": [
    "print(f\"Standard deviation : {round(df['Y2017'].std(),2)}\")"
   ]
  },
  {
   "cell_type": "code",
   "execution_count": 29,
   "id": "45f2a0cb",
   "metadata": {},
   "outputs": [
    {
     "name": "stdout",
     "output_type": "stream",
     "text": [
      "Mean : 140.92\n"
     ]
    }
   ],
   "source": [
    "print(f\"Mean : {round(df['Y2017'].mean(),2)}\")"
   ]
  },
  {
   "cell_type": "code",
   "execution_count": 30,
   "id": "9f7e1f9c",
   "metadata": {},
   "outputs": [
    {
     "name": "stdout",
     "output_type": "stream",
     "text": [
      "the mean and standard deviation across the whole dataset for the year 2017 are 1671.86 and 140.92 respectively\n"
     ]
    }
   ],
   "source": [
    "print(f\"the mean and standard deviation across the whole dataset for the year 2017 are {round(df['Y2017'].std(),2)} and {round(df['Y2017'].mean(),2)} respectively\")"
   ]
  },
  {
   "cell_type": "markdown",
   "id": "e19ecf79",
   "metadata": {},
   "source": [
    "### 15. How to select  the elements in bold and italics from the array?\n",
    "\n"
   ]
  },
  {
   "cell_type": "code",
   "execution_count": 31,
   "id": "f6ea2ea9",
   "metadata": {},
   "outputs": [
    {
     "name": "stdout",
     "output_type": "stream",
     "text": [
      "[[93 92 48]\n",
      " [92 94 56]]\n",
      "[[89 63]\n",
      " [92 48]]\n",
      "[[94 89 63]\n",
      " [93 92 48]]\n",
      "[[89 63]]\n"
     ]
    }
   ],
   "source": [
    "##15\n",
    "array  = np.array([[94, 89, 63],\n",
    "\n",
    "             [93, 92, 48],\n",
    "\n",
    "             [92, 94, 56]])\n",
    "\n",
    "print(array[1:,:])\n",
    "print(array[:2,1:]) ## will give all bold and italics numbers\n",
    "print(array[:2,0:])\n",
    "print(array[:1,1:]) #3 will only give the first row bold and italics numbers"
   ]
  },
  {
   "cell_type": "markdown",
   "id": "261c4f62",
   "metadata": {},
   "source": [
    "### Hence, array[:1,1:] is correct option."
   ]
  },
  {
   "cell_type": "markdown",
   "id": "a0165d0b",
   "metadata": {},
   "source": [
    "### 16. What year has the highest sum of Stock Variation?"
   ]
  },
  {
   "cell_type": "code",
   "execution_count": 32,
   "id": "c243bc1a",
   "metadata": {},
   "outputs": [
    {
     "data": {
      "text/plain": [
       "Y2014    58749.83\n",
       "Y2015    34910.99\n",
       "Y2016    33140.12\n",
       "Y2017    54316.91\n",
       "Y2018    20577.91\n",
       "Name: Stock Variation, dtype: float64"
      ]
     },
     "execution_count": 32,
     "metadata": {},
     "output_type": "execute_result"
    }
   ],
   "source": [
    "### 16\n",
    "a_1 = df.groupby('Element')['Y2014','Y2015','Y2016','Y2017','Y2018'].sum()\n",
    "a_1  = a_1.loc['Stock Variation']\n",
    "a_1"
   ]
  },
  {
   "cell_type": "code",
   "execution_count": 33,
   "id": "498d3f33",
   "metadata": {},
   "outputs": [
    {
     "data": {
      "text/plain": [
       "'Y2014'"
      ]
     },
     "execution_count": 33,
     "metadata": {},
     "output_type": "execute_result"
    }
   ],
   "source": [
    "a_1.idxmax()"
   ]
  },
  {
   "cell_type": "markdown",
   "id": "2a19f0c1",
   "metadata": {},
   "source": [
    "Clearly,Y2014 i.e year **2014** has sum of stock variation equal to **58749.83** which is **highest** in number. "
   ]
  },
  {
   "cell_type": "markdown",
   "id": "bbf85fca",
   "metadata": {},
   "source": [
    "### 17.  Create a pandas DataFrame"
   ]
  },
  {
   "cell_type": "code",
   "execution_count": 34,
   "id": "fc7fafbf",
   "metadata": {},
   "outputs": [
    {
     "data": {
      "text/html": [
       "<div>\n",
       "<style scoped>\n",
       "    .dataframe tbody tr th:only-of-type {\n",
       "        vertical-align: middle;\n",
       "    }\n",
       "\n",
       "    .dataframe tbody tr th {\n",
       "        vertical-align: top;\n",
       "    }\n",
       "\n",
       "    .dataframe thead th {\n",
       "        text-align: right;\n",
       "    }\n",
       "</style>\n",
       "<table border=\"1\" class=\"dataframe\">\n",
       "  <thead>\n",
       "    <tr style=\"text-align: right;\">\n",
       "      <th></th>\n",
       "      <th>Age</th>\n",
       "      <th>Nationality</th>\n",
       "      <th>Overall</th>\n",
       "    </tr>\n",
       "  </thead>\n",
       "  <tbody>\n",
       "    <tr>\n",
       "      <th>1</th>\n",
       "      <td>35</td>\n",
       "      <td>Portugal</td>\n",
       "      <td>94</td>\n",
       "    </tr>\n",
       "    <tr>\n",
       "      <th>2</th>\n",
       "      <td>33</td>\n",
       "      <td>Argentina</td>\n",
       "      <td>93</td>\n",
       "    </tr>\n",
       "    <tr>\n",
       "      <th>3</th>\n",
       "      <td>30</td>\n",
       "      <td>Brazil</td>\n",
       "      <td>92</td>\n",
       "    </tr>\n",
       "  </tbody>\n",
       "</table>\n",
       "</div>"
      ],
      "text/plain": [
       "   Age Nationality  Overall\n",
       "1   35    Portugal       94\n",
       "2   33   Argentina       93\n",
       "3   30      Brazil       92"
      ]
     },
     "execution_count": 34,
     "metadata": {},
     "output_type": "execute_result"
    }
   ],
   "source": [
    "lst = [[35, 'Portugal', 94], [33, 'Argentina', 93], [30 , 'Brazil', 92]]\n",
    "\n",
    "col = ['Age','Nationality','Overall']\n",
    "pd.DataFrame(lst,columns = col,index = [1,2,3])"
   ]
  },
  {
   "cell_type": "code",
   "execution_count": 35,
   "id": "3f342276",
   "metadata": {},
   "outputs": [
    {
     "data": {
      "text/html": [
       "<div>\n",
       "<style scoped>\n",
       "    .dataframe tbody tr th:only-of-type {\n",
       "        vertical-align: middle;\n",
       "    }\n",
       "\n",
       "    .dataframe tbody tr th {\n",
       "        vertical-align: top;\n",
       "    }\n",
       "\n",
       "    .dataframe thead th {\n",
       "        text-align: right;\n",
       "    }\n",
       "</style>\n",
       "<table border=\"1\" class=\"dataframe\">\n",
       "  <thead>\n",
       "    <tr style=\"text-align: right;\">\n",
       "      <th></th>\n",
       "      <th>Age</th>\n",
       "      <th>Nationality</th>\n",
       "      <th>Overall</th>\n",
       "    </tr>\n",
       "  </thead>\n",
       "  <tbody>\n",
       "    <tr>\n",
       "      <th>1</th>\n",
       "      <td>35</td>\n",
       "      <td>Portugal</td>\n",
       "      <td>94</td>\n",
       "    </tr>\n",
       "    <tr>\n",
       "      <th>2</th>\n",
       "      <td>33</td>\n",
       "      <td>Argentina</td>\n",
       "      <td>93</td>\n",
       "    </tr>\n",
       "    <tr>\n",
       "      <th>3</th>\n",
       "      <td>30</td>\n",
       "      <td>Brazil</td>\n",
       "      <td>92</td>\n",
       "    </tr>\n",
       "  </tbody>\n",
       "</table>\n",
       "</div>"
      ],
      "text/plain": [
       "   Age Nationality  Overall\n",
       "1   35    Portugal       94\n",
       "2   33   Argentina       93\n",
       "3   30      Brazil       92"
      ]
     },
     "execution_count": 35,
     "metadata": {},
     "output_type": "execute_result"
    }
   ],
   "source": [
    "pd.DataFrame(lst,columns = col,index = [i for i in range(1,4)])"
   ]
  },
  {
   "cell_type": "markdown",
   "id": "125327dc",
   "metadata": {},
   "source": [
    "pd.Dateframe(lst, column = [‘Age’,’Nationality’,’Overall’], index = [1,2,3])\n",
    " is wrong since arguement inside a pandas DataFrame is columns not column. Similarly,pd.datframe(lst, column = [‘Age’,’Nationality’,’Overall’],index = [1,2,3])\n",
    "is wrong for exact reason. "
   ]
  },
  {
   "cell_type": "markdown",
   "id": "021f82d0",
   "metadata": {},
   "source": [
    "Hence correct options are :\n",
    " *  **pd.DataFrame(lst,columns = col,index = [i for i in range(1,4)])**\n",
    " *  **pd.DataFrame(lst,columns = col,index = [1,2,3])**"
   ]
  },
  {
   "cell_type": "markdown",
   "id": "4f1a7fb8",
   "metadata": {},
   "source": [
    "### 18.  Output of the code given?"
   ]
  },
  {
   "cell_type": "code",
   "execution_count": 36,
   "id": "900f0dfc",
   "metadata": {},
   "outputs": [
    {
     "ename": "TypeError",
     "evalue": "'tuple' object does not support item assignment",
     "output_type": "error",
     "traceback": [
      "\u001b[1;31m---------------------------------------------------------------------------\u001b[0m",
      "\u001b[1;31mTypeError\u001b[0m                                 Traceback (most recent call last)",
      "Input \u001b[1;32mIn [36]\u001b[0m, in \u001b[0;36m<cell line: 4>\u001b[1;34m()\u001b[0m\n\u001b[0;32m      1\u001b[0m \u001b[38;5;66;03m##18 \u001b[39;00m\n\u001b[0;32m      2\u001b[0m my_tuppy \u001b[38;5;241m=\u001b[39m (\u001b[38;5;241m1\u001b[39m,\u001b[38;5;241m2\u001b[39m,\u001b[38;5;241m5\u001b[39m,\u001b[38;5;241m8\u001b[39m)\n\u001b[1;32m----> 4\u001b[0m my_tuppy[\u001b[38;5;241m2\u001b[39m] \u001b[38;5;241m=\u001b[39m \u001b[38;5;241m6\u001b[39m\n",
      "\u001b[1;31mTypeError\u001b[0m: 'tuple' object does not support item assignment"
     ]
    }
   ],
   "source": [
    "##18 \n",
    "my_tuppy = (1,2,5,8)\n",
    "\n",
    "my_tuppy[2] = 6"
   ]
  },
  {
   "cell_type": "markdown",
   "id": "041c72ea",
   "metadata": {},
   "source": [
    "It's a **TypeError** since we know tuple is immutable and hence does not support item assignment. Therefore, the correct option is TypeError."
   ]
  },
  {
   "cell_type": "markdown",
   "id": "604f4740",
   "metadata": {},
   "source": [
    "## 19. Which of these python data structures is unorderly?\n",
    "\n",
    "**SET**\n",
    "\n",
    "### Set prints the elements in random order that is why set is called unordered data structure."
   ]
  },
  {
   "cell_type": "code",
   "execution_count": 37,
   "id": "cab89a6e",
   "metadata": {},
   "outputs": [],
   "source": [
    "a = {1,4,6,'hi','hello'}   "
   ]
  },
  {
   "cell_type": "code",
   "execution_count": 38,
   "id": "08e8b440",
   "metadata": {},
   "outputs": [
    {
     "name": "stdout",
     "output_type": "stream",
     "text": [
      "{'hello', 1, 4, 6, 'hi'}\n"
     ]
    }
   ],
   "source": [
    "print(a)   "
   ]
  },
  {
   "cell_type": "markdown",
   "id": "5a7f9c2b",
   "metadata": {},
   "source": [
    "Clearly the item positions have been changed but in case of list, dictionary and tuple, items position do not change that is why they are ordered data structures. \n",
    "The following examples can be used for demonstration :"
   ]
  },
  {
   "cell_type": "code",
   "execution_count": 39,
   "id": "291a6b97",
   "metadata": {},
   "outputs": [
    {
     "name": "stdout",
     "output_type": "stream",
     "text": [
      "List : [1, 4, 6, 'hi']\n",
      "Dictionary : {1: 'e', 'er': 3, 3: 4}\n",
      "Tuple : (1, 3, 4, 5, 'hi', 'learn')\n"
     ]
    }
   ],
   "source": [
    "## list \n",
    "a = [1,4,6,'hi']\n",
    "print(f\"List : {a}\")\n",
    "## dictionary\n",
    "b = {1:'e','er':3,3:4}\n",
    "print(f\"Dictionary : {b}\")\n",
    "## tuple\n",
    "c = (1,3,4,5,'hi','learn')\n",
    "print(f\"Tuple : {c}\")"
   ]
  },
  {
   "cell_type": "markdown",
   "id": "ae6d9c34",
   "metadata": {},
   "source": [
    "### 20. Select columns ‘Y2017’ and ‘Area’, Perform a groupby operation on ‘Area’.  Which of these Areas had the highest sum in 2017?\n",
    "\n"
   ]
  },
  {
   "cell_type": "code",
   "execution_count": 40,
   "id": "10e593ff",
   "metadata": {},
   "outputs": [],
   "source": [
    "##20 \n",
    "year_2017 = df[['Y2017','Area']]"
   ]
  },
  {
   "cell_type": "code",
   "execution_count": 41,
   "id": "b16b67c6",
   "metadata": {},
   "outputs": [
    {
     "data": {
      "text/html": [
       "<div>\n",
       "<style scoped>\n",
       "    .dataframe tbody tr th:only-of-type {\n",
       "        vertical-align: middle;\n",
       "    }\n",
       "\n",
       "    .dataframe tbody tr th {\n",
       "        vertical-align: top;\n",
       "    }\n",
       "\n",
       "    .dataframe thead th {\n",
       "        text-align: right;\n",
       "    }\n",
       "</style>\n",
       "<table border=\"1\" class=\"dataframe\">\n",
       "  <thead>\n",
       "    <tr style=\"text-align: right;\">\n",
       "      <th></th>\n",
       "      <th>Y2017</th>\n",
       "    </tr>\n",
       "    <tr>\n",
       "      <th>Area</th>\n",
       "      <th></th>\n",
       "    </tr>\n",
       "  </thead>\n",
       "  <tbody>\n",
       "    <tr>\n",
       "      <th>Nigeria</th>\n",
       "      <td>1483268.23</td>\n",
       "    </tr>\n",
       "    <tr>\n",
       "      <th>Egypt</th>\n",
       "      <td>866379.92</td>\n",
       "    </tr>\n",
       "    <tr>\n",
       "      <th>South Africa</th>\n",
       "      <td>517590.54</td>\n",
       "    </tr>\n",
       "  </tbody>\n",
       "</table>\n",
       "</div>"
      ],
      "text/plain": [
       "                   Y2017\n",
       "Area                    \n",
       "Nigeria       1483268.23\n",
       "Egypt          866379.92\n",
       "South Africa   517590.54"
      ]
     },
     "execution_count": 41,
     "metadata": {},
     "output_type": "execute_result"
    }
   ],
   "source": [
    "year_2017.groupby('Area').sum().sort_values(by = 'Y2017',ascending = False)[:3]"
   ]
  },
  {
   "cell_type": "markdown",
   "id": "eff17aac",
   "metadata": {},
   "source": [
    "### Hence, Nigeria had the highest sum in 2017."
   ]
  },
  {
   "cell_type": "markdown",
   "id": "08b164fa",
   "metadata": {},
   "source": [
    "**Thank  you**"
   ]
  },
  {
   "cell_type": "code",
   "execution_count": null,
   "id": "9b525e87",
   "metadata": {},
   "outputs": [],
   "source": []
  }
 ],
 "metadata": {
  "kernelspec": {
   "display_name": "Python 3 (ipykernel)",
   "language": "python",
   "name": "python3"
  },
  "language_info": {
   "codemirror_mode": {
    "name": "ipython",
    "version": 3
   },
   "file_extension": ".py",
   "mimetype": "text/x-python",
   "name": "python",
   "nbconvert_exporter": "python",
   "pygments_lexer": "ipython3",
   "version": "3.9.12"
  }
 },
 "nbformat": 4,
 "nbformat_minor": 5
}
