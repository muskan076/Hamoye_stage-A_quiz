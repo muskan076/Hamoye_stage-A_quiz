{
 "cells": [
  {
   "cell_type": "markdown",
   "id": "4aeea670",
   "metadata": {},
   "source": [
    "## Stage- B quiz solutions"
   ]
  },
  {
   "cell_type": "markdown",
   "id": "b86d9b4e",
   "metadata": {},
   "source": [
    "### Importing all important libraries"
   ]
  },
  {
   "cell_type": "code",
   "execution_count": 1,
   "id": "6c87b10a",
   "metadata": {},
   "outputs": [],
   "source": [
    "import pandas as pd\n",
    "import numpy as np\n",
    "import seaborn as sns\n",
    "import matplotlib.pyplot as plt\n",
    "from sklearn.linear_model import LinearRegression, Ridge, Lasso\n",
    "from sklearn.metrics import r2_score,mean_squared_error,mean_absolute_error"
   ]
  },
  {
   "cell_type": "markdown",
   "id": "d09e2e9e",
   "metadata": {},
   "source": [
    "#### Answer 1"
   ]
  },
  {
   "cell_type": "markdown",
   "id": "9f871c4b",
   "metadata": {},
   "source": [
    "* Multicollinearity exists when the predictors are correlated with each other.\n",
    "* Correlation coefficient tells us about the linear relationship that exists between two variables. It ranges between [-1.1]\n",
    "* Coefficient of determination, that is also called as R^2 tells how much varaiability of the dependent variable is being explained by the set of our independent variables. Hence it's correct answer.\n",
    "* coefficient of skewness measures the lack of symmetry present in the distribution of the data.\n",
    "\n",
    "### Hence coefficient of determination is correct option."
   ]
  },
  {
   "cell_type": "markdown",
   "id": "e0f45294",
   "metadata": {},
   "source": [
    "#### Answer 2"
   ]
  },
  {
   "cell_type": "markdown",
   "id": "093d2375",
   "metadata": {},
   "source": [
    "Residual is the difference between the actual value and the predicted value.\n",
    "Hence,  \n",
    "### $e = y - y{hat}$ is correct option"
   ]
  },
  {
   "cell_type": "markdown",
   "id": "fabc4b9b",
   "metadata": {},
   "source": [
    "#### Answer 3"
   ]
  },
  {
   "cell_type": "markdown",
   "id": "351ecc50",
   "metadata": {},
   "source": [
    "when b = 0, y = a i.e constant.\n",
    "\n",
    "### Hence b = 0 is correct\n"
   ]
  },
  {
   "cell_type": "markdown",
   "id": "2e9e53b4",
   "metadata": {},
   "source": [
    "#### Answer 4"
   ]
  },
  {
   "cell_type": "code",
   "execution_count": null,
   "id": "da613cc0",
   "metadata": {},
   "outputs": [],
   "source": [
    "Homoscedasticity refers to the const"
   ]
  }
 ],
 "metadata": {
  "kernelspec": {
   "display_name": "Python 3 (ipykernel)",
   "language": "python",
   "name": "python3"
  },
  "language_info": {
   "codemirror_mode": {
    "name": "ipython",
    "version": 3
   },
   "file_extension": ".py",
   "mimetype": "text/x-python",
   "name": "python",
   "nbconvert_exporter": "python",
   "pygments_lexer": "ipython3",
   "version": "3.9.12"
  }
 },
 "nbformat": 4,
 "nbformat_minor": 5
}
