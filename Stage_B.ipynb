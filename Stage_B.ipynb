{
 "cells": [
  {
   "cell_type": "markdown",
   "id": "4aeea670",
   "metadata": {},
   "source": [
    "## Stage- B quiz solutions"
   ]
  },
  {
   "cell_type": "markdown",
   "id": "b86d9b4e",
   "metadata": {},
   "source": [
    "### Importing all important libraries"
   ]
  },
  {
   "cell_type": "code",
   "execution_count": 43,
   "id": "6c87b10a",
   "metadata": {},
   "outputs": [],
   "source": [
    "import pandas as pd\n",
    "import numpy as np\n",
    "import seaborn as sns\n",
    "import matplotlib.pyplot as plt\n",
    "from sklearn.linear_model import LinearRegression, Ridge, Lasso\n",
    "from sklearn.metrics import r2_score,mean_squared_error,mean_absolute_error\n",
    "from sklearn.model_selection import train_test_split\n",
    "from sklearn.preprocessing import MinMaxScaler\n"
   ]
  },
  {
   "cell_type": "markdown",
   "id": "78f29c7c",
   "metadata": {},
   "source": [
    "### Question 1:\n",
    "The percent of the total variation of the dependent variable Y explained by the set of independent variables X is measured by?"
   ]
  },
  {
   "cell_type": "markdown",
   "id": "d09e2e9e",
   "metadata": {},
   "source": [
    "#### Answer 1"
   ]
  },
  {
   "cell_type": "markdown",
   "id": "9f871c4b",
   "metadata": {},
   "source": [
    "* Multicollinearity exists when the predictors are correlated with each other.\n",
    "* Correlation coefficient tells us about the linear relationship that exists between two variables. It ranges between [-1.1]\n",
    "* Coefficient of determination, that is also called as R^2 tells how much varaiability of the dependent variable is being explained by the set of our independent variables. Hence it's correct answer.\n",
    "* coefficient of skewness measures the lack of symmetry present in the distribution of the data.\n",
    "\n",
    "### Hence coefficient of determination is correct option."
   ]
  },
  {
   "cell_type": "markdown",
   "id": "88541a5e",
   "metadata": {},
   "source": [
    "### Question 2\n",
    "How do you define a Residual?\n",
    "\n"
   ]
  },
  {
   "cell_type": "markdown",
   "id": "e0f45294",
   "metadata": {},
   "source": [
    "#### Answer 2"
   ]
  },
  {
   "cell_type": "markdown",
   "id": "093d2375",
   "metadata": {},
   "source": [
    "Residual is the difference between the actual value and the predicted value.\n",
    "Hence,  \n",
    "### $e = y - y{hat}$ is correct option"
   ]
  },
  {
   "cell_type": "markdown",
   "id": "2354a7ca",
   "metadata": {},
   "source": [
    "### Question 3\n",
    "The straight line graph of the equation Y = a + BX, the slope is horizontal if?"
   ]
  },
  {
   "cell_type": "markdown",
   "id": "fabc4b9b",
   "metadata": {},
   "source": [
    "#### Answer 3"
   ]
  },
  {
   "cell_type": "markdown",
   "id": "351ecc50",
   "metadata": {},
   "source": [
    "when b = 0, y = a i.e constant.\n",
    "\n",
    "### Hence b = 0 is correct\n"
   ]
  },
  {
   "cell_type": "markdown",
   "id": "b4add215",
   "metadata": {},
   "source": [
    "#### Question 4:\n",
    "Which of the one is true about Heteroskedasticity?\n",
    "\n"
   ]
  },
  {
   "cell_type": "markdown",
   "id": "2e9e53b4",
   "metadata": {},
   "source": [
    "#### Answer 4"
   ]
  },
  {
   "cell_type": "markdown",
   "id": "0b18bd8a",
   "metadata": {},
   "source": [
    "Homoscedasticity refers to the constant variance of error term. Contrary to it, we have Heteroskedasticity which means Linear regression with variations in error term.\n",
    "\n",
    "### Therefore, Linear Regression with varying error terms is correct option"
   ]
  },
  {
   "cell_type": "markdown",
   "id": "cb3b4536",
   "metadata": {},
   "source": [
    "#### Question 5\n",
    "\n",
    "Generally, which of the following method(s) is used for predicting continuous dependent variables?\n",
    "\n",
    "1. Linear Regression\n",
    "\n",
    "2. Logistic Regression"
   ]
  },
  {
   "cell_type": "markdown",
   "id": "855ed427",
   "metadata": {},
   "source": [
    "#### Answer 5\n",
    "Logistic regression is used for classification problems i.e when our target variable has discrete labels where as Linear regression deals with regression problems in which target or dependent variable is of continuous type.\n",
    "\n",
    "### Hence,  1 only is correct option."
   ]
  },
  {
   "cell_type": "markdown",
   "id": "39ff78c1",
   "metadata": {},
   "source": [
    "#### Question 6\n",
    "From the following options below, which of these is/are true about “Ridge” or “Lasso” regression methods in case of feature selection?"
   ]
  },
  {
   "cell_type": "markdown",
   "id": "4ff399e7",
   "metadata": {},
   "source": [
    "#### Answer 6\n",
    "\n",
    "In LASSO, we use feature selection technique. LASSO helps to reduce overfitting.\n",
    "\n",
    "### Hence, Lasso regression uses subset selection of features is correct option."
   ]
  },
  {
   "cell_type": "markdown",
   "id": "efd79771",
   "metadata": {},
   "source": [
    "#### Question 7\n",
    "Which of the following sentences is/are true about outliers in Linear Regression:"
   ]
  },
  {
   "cell_type": "markdown",
   "id": "b2e6fc37",
   "metadata": {},
   "source": [
    "#### Answer 7\n",
    "We know Linear regression is sensitive to outliers because we know \n",
    "slope will be changed and will not give better line that we could have without outliers. Also residual will be large in this case,\n",
    "\n",
    "### Thus, Linear regression is sensitive to outliers"
   ]
  },
  {
   "cell_type": "markdown",
   "id": "aa9f384e",
   "metadata": {},
   "source": [
    "#### Question 8\n",
    "Which of the following metrics can be used for evaluating regression models?\n",
    "\n"
   ]
  },
  {
   "cell_type": "markdown",
   "id": "6093983f",
   "metadata": {},
   "source": [
    "#### Answer 8\n",
    "All of these metrics can be used for evaluation of regression models.\n",
    "\n",
    "### Hence 1,2,3 and 4 is correct option."
   ]
  },
  {
   "cell_type": "markdown",
   "id": "2002e558",
   "metadata": {},
   "source": [
    "#### Question 9\n",
    "A best fit line relating X and Y has a R-Squared value of 0.75. How do I interpret this information?"
   ]
  },
  {
   "cell_type": "markdown",
   "id": "4f050251",
   "metadata": {},
   "source": [
    "#### Answer 9\n",
    "Coefficient of determination, that is also called as R^2 tells how much varaiability of the dependent variable is being explained by the set of our independent variables.\n",
    "\n",
    "### Thus, 75% of the variance in Y is explained by X is correct option."
   ]
  },
  {
   "cell_type": "markdown",
   "id": "ad30608a",
   "metadata": {},
   "source": [
    "#### Question 10\n",
    "Which of the following measures is optimal for comparing the goodness of the fit of competing regression models involving the same dependent variable?"
   ]
  },
  {
   "cell_type": "markdown",
   "id": "46a4ec95",
   "metadata": {},
   "source": [
    "#### Answer 10\n",
    "#### R-square is correct option."
   ]
  },
  {
   "cell_type": "markdown",
   "id": "7f06e49c",
   "metadata": {},
   "source": [
    "#### Question 11\n",
    "The Lasso can be interpreted as least-squares linear regression where:\n",
    "\n"
   ]
  },
  {
   "cell_type": "markdown",
   "id": "de9adcec",
   "metadata": {},
   "source": [
    "#### Answer 11\n",
    "LASSO deals with L1- norm hence weights are regularised with L1 norm.\n",
    "\n",
    "### Therefore, Weights are regularized with the L1 norm is correct option."
   ]
  },
  {
   "cell_type": "markdown",
   "id": "9480c1dc",
   "metadata": {},
   "source": [
    "#### Question 12\n",
    "From the dataset, fit a linear model on the relationship between the temperature in the living room in Celsius (x = T2) and the temperature outside the building (y = T6). What is the R^2 value in two d.p.?\n",
    "\n",
    "\n",
    "#### Answer 12"
   ]
  },
  {
   "cell_type": "code",
   "execution_count": 44,
   "id": "6010495d",
   "metadata": {},
   "outputs": [],
   "source": [
    "df = pd.read_csv('energydata_complete (1).csv')"
   ]
  },
  {
   "cell_type": "code",
   "execution_count": 45,
   "id": "4f41f5f0",
   "metadata": {},
   "outputs": [
    {
     "data": {
      "text/html": [
       "<div>\n",
       "<style scoped>\n",
       "    .dataframe tbody tr th:only-of-type {\n",
       "        vertical-align: middle;\n",
       "    }\n",
       "\n",
       "    .dataframe tbody tr th {\n",
       "        vertical-align: top;\n",
       "    }\n",
       "\n",
       "    .dataframe thead th {\n",
       "        text-align: right;\n",
       "    }\n",
       "</style>\n",
       "<table border=\"1\" class=\"dataframe\">\n",
       "  <thead>\n",
       "    <tr style=\"text-align: right;\">\n",
       "      <th></th>\n",
       "      <th>date</th>\n",
       "      <th>Appliances</th>\n",
       "      <th>lights</th>\n",
       "      <th>T1</th>\n",
       "      <th>RH_1</th>\n",
       "      <th>T2</th>\n",
       "      <th>RH_2</th>\n",
       "      <th>T3</th>\n",
       "      <th>RH_3</th>\n",
       "      <th>T4</th>\n",
       "      <th>...</th>\n",
       "      <th>T9</th>\n",
       "      <th>RH_9</th>\n",
       "      <th>T_out</th>\n",
       "      <th>Press_mm_hg</th>\n",
       "      <th>RH_out</th>\n",
       "      <th>Windspeed</th>\n",
       "      <th>Visibility</th>\n",
       "      <th>Tdewpoint</th>\n",
       "      <th>rv1</th>\n",
       "      <th>rv2</th>\n",
       "    </tr>\n",
       "  </thead>\n",
       "  <tbody>\n",
       "    <tr>\n",
       "      <th>0</th>\n",
       "      <td>2016-01-11 17:00:00</td>\n",
       "      <td>60</td>\n",
       "      <td>30</td>\n",
       "      <td>19.89</td>\n",
       "      <td>47.596667</td>\n",
       "      <td>19.2</td>\n",
       "      <td>44.7900</td>\n",
       "      <td>19.79</td>\n",
       "      <td>44.73</td>\n",
       "      <td>19.0</td>\n",
       "      <td>...</td>\n",
       "      <td>17.033333</td>\n",
       "      <td>45.53</td>\n",
       "      <td>6.600000</td>\n",
       "      <td>733.5</td>\n",
       "      <td>92.0</td>\n",
       "      <td>7.000000</td>\n",
       "      <td>63.000000</td>\n",
       "      <td>5.3</td>\n",
       "      <td>13.275433</td>\n",
       "      <td>13.275433</td>\n",
       "    </tr>\n",
       "    <tr>\n",
       "      <th>1</th>\n",
       "      <td>2016-01-11 17:10:00</td>\n",
       "      <td>60</td>\n",
       "      <td>30</td>\n",
       "      <td>19.89</td>\n",
       "      <td>46.693333</td>\n",
       "      <td>19.2</td>\n",
       "      <td>44.7225</td>\n",
       "      <td>19.79</td>\n",
       "      <td>44.79</td>\n",
       "      <td>19.0</td>\n",
       "      <td>...</td>\n",
       "      <td>17.066667</td>\n",
       "      <td>45.56</td>\n",
       "      <td>6.483333</td>\n",
       "      <td>733.6</td>\n",
       "      <td>92.0</td>\n",
       "      <td>6.666667</td>\n",
       "      <td>59.166667</td>\n",
       "      <td>5.2</td>\n",
       "      <td>18.606195</td>\n",
       "      <td>18.606195</td>\n",
       "    </tr>\n",
       "  </tbody>\n",
       "</table>\n",
       "<p>2 rows × 29 columns</p>\n",
       "</div>"
      ],
      "text/plain": [
       "                  date  Appliances  lights     T1       RH_1    T2     RH_2  \\\n",
       "0  2016-01-11 17:00:00          60      30  19.89  47.596667  19.2  44.7900   \n",
       "1  2016-01-11 17:10:00          60      30  19.89  46.693333  19.2  44.7225   \n",
       "\n",
       "      T3   RH_3    T4  ...         T9   RH_9     T_out  Press_mm_hg  RH_out  \\\n",
       "0  19.79  44.73  19.0  ...  17.033333  45.53  6.600000        733.5    92.0   \n",
       "1  19.79  44.79  19.0  ...  17.066667  45.56  6.483333        733.6    92.0   \n",
       "\n",
       "   Windspeed  Visibility  Tdewpoint        rv1        rv2  \n",
       "0   7.000000   63.000000        5.3  13.275433  13.275433  \n",
       "1   6.666667   59.166667        5.2  18.606195  18.606195  \n",
       "\n",
       "[2 rows x 29 columns]"
      ]
     },
     "execution_count": 45,
     "metadata": {},
     "output_type": "execute_result"
    }
   ],
   "source": [
    "df.head(2)"
   ]
  },
  {
   "cell_type": "code",
   "execution_count": 46,
   "id": "5c8bf67a",
   "metadata": {},
   "outputs": [
    {
     "data": {
      "text/plain": [
       "0.64"
      ]
     },
     "execution_count": 46,
     "metadata": {},
     "output_type": "execute_result"
    }
   ],
   "source": [
    "data = df[['T2','T6']]\n",
    "target = df[['T6']]\n",
    "feature = data.drop(['T6'],axis = 1)\n",
    "X_train, X_test, y_train, y_test = train_test_split(feature,target,\n",
    "test_size=0.3, random_state=42)\n",
    "linear_model = LinearRegression()\n",
    "#fit the model to the training dataset\n",
    "linear_model.fit(X_train, y_train)\n",
    "#obtain predictions on test dataset\n",
    "predictions = linear_model.predict(X_test)\n",
    "r_2 = r2_score(y_test,predictions)\n",
    "round(r_2,2)"
   ]
  },
  {
   "cell_type": "markdown",
   "id": "88f645f3",
   "metadata": {},
   "source": [
    "### Hence, 0.64 is correct option"
   ]
  },
  {
   "cell_type": "markdown",
   "id": "25dccc29",
   "metadata": {},
   "source": [
    "#### Question 13\n",
    "Normalize the dataset using the MinMaxScaler after removing the following columns: [“date”, “lights”]. The target variable is “Appliances”. Use a 70-30 train-test set split with a random state of 42 (for reproducibility). Run a multiple linear regression using the training set and evaluate your model on the test set. Answer the following questions:\n",
    "\n",
    "What is the Mean Absolute Error (in two decimal places)?"
   ]
  },
  {
   "cell_type": "markdown",
   "id": "63178c6c",
   "metadata": {},
   "source": [
    "#### Answer 13\n"
   ]
  },
  {
   "cell_type": "code",
   "execution_count": 47,
   "id": "0b9406f6",
   "metadata": {},
   "outputs": [],
   "source": [
    "df.drop(columns = ['date','lights'],inplace = True)\n",
    "scaler = MinMaxScaler()\n",
    "normalised_df = pd.DataFrame(scaler.fit_transform(df),columns = df.columns)\n",
    "feature_df = normalised_df.drop(columns = ['Appliances'])\n",
    "target = normalised_df['Appliances']\n",
    "X_train, X_test, y_train, y_test = train_test_split(feature_df,target,\n",
    "test_size=0.3, random_state=42)"
   ]
  },
  {
   "cell_type": "code",
   "execution_count": 48,
   "id": "37f90992",
   "metadata": {},
   "outputs": [
    {
     "data": {
      "text/plain": [
       "((13814, 26), (5921, 26))"
      ]
     },
     "execution_count": 48,
     "metadata": {},
     "output_type": "execute_result"
    }
   ],
   "source": [
    "X_train.shape, X_test.shape"
   ]
  },
  {
   "cell_type": "code",
   "execution_count": 49,
   "id": "3753c83f",
   "metadata": {},
   "outputs": [
    {
     "data": {
      "text/plain": [
       "((13814,), (5921,))"
      ]
     },
     "execution_count": 49,
     "metadata": {},
     "output_type": "execute_result"
    }
   ],
   "source": [
    "y_train.shape, y_test.shape"
   ]
  },
  {
   "cell_type": "code",
   "execution_count": 50,
   "id": "b68b260e",
   "metadata": {},
   "outputs": [
    {
     "data": {
      "text/plain": [
       "0.05"
      ]
     },
     "execution_count": 50,
     "metadata": {},
     "output_type": "execute_result"
    }
   ],
   "source": [
    "linear_model = LinearRegression()\n",
    "#fit the model to the training dataset\n",
    "linear_model.fit(X_train, y_train)\n",
    "predicted_values = linear_model.predict(X_test)\n",
    "#MAE\n",
    "mae = mean_absolute_error(y_test, predicted_values)\n",
    "round(mae, 3)"
   ]
  },
  {
   "cell_type": "markdown",
   "id": "bc280b8b",
   "metadata": {},
   "source": [
    "### Hence 0.05 is correct option."
   ]
  },
  {
   "cell_type": "markdown",
   "id": "0b67c7e9",
   "metadata": {},
   "source": [
    "#### Question 14\n",
    "What is the Residual Sum of Squares (in two decimal places)?\n",
    "\n"
   ]
  },
  {
   "cell_type": "markdown",
   "id": "35ccc803",
   "metadata": {},
   "source": [
    "#### Answer 14"
   ]
  },
  {
   "cell_type": "code",
   "execution_count": 51,
   "id": "8cc63d02",
   "metadata": {},
   "outputs": [
    {
     "data": {
      "text/plain": [
       "45.35"
      ]
     },
     "execution_count": 51,
     "metadata": {},
     "output_type": "execute_result"
    }
   ],
   "source": [
    "rss = np.sum(np.square(y_test -predicted_values ))\n",
    "round(rss,2)"
   ]
  },
  {
   "cell_type": "markdown",
   "id": "4ebd3e31",
   "metadata": {},
   "source": [
    "### Hence 45.35 is correct option"
   ]
  },
  {
   "cell_type": "markdown",
   "id": "3256ffba",
   "metadata": {},
   "source": [
    "#### Question 15\n",
    "What is the Root Mean Squared Error (in three decimal places)?\n",
    "\n"
   ]
  },
  {
   "cell_type": "markdown",
   "id": "84ca4bbd",
   "metadata": {},
   "source": [
    "#### Answer 15\n"
   ]
  },
  {
   "cell_type": "code",
   "execution_count": 52,
   "id": "f82a381a",
   "metadata": {},
   "outputs": [
    {
     "data": {
      "text/plain": [
       "0.088"
      ]
     },
     "execution_count": 52,
     "metadata": {},
     "output_type": "execute_result"
    }
   ],
   "source": [
    "rmse = np.sqrt(mean_squared_error(y_test,predicted_values))\n",
    "round(rmse,3)"
   ]
  },
  {
   "cell_type": "markdown",
   "id": "08c6efc2",
   "metadata": {},
   "source": [
    "### Hence 0.088 is correct option."
   ]
  },
  {
   "cell_type": "markdown",
   "id": "bffef0f3",
   "metadata": {},
   "source": [
    "#### Ques 16:\n",
    "What is the Coefficient of Determination (in two decimal places)?\n",
    "\n",
    "\n",
    "#### Answer 16"
   ]
  },
  {
   "cell_type": "code",
   "execution_count": 53,
   "id": "b5e14e25",
   "metadata": {},
   "outputs": [
    {
     "data": {
      "text/plain": [
       "0.15"
      ]
     },
     "execution_count": 53,
     "metadata": {},
     "output_type": "execute_result"
    }
   ],
   "source": [
    "r2_score = r2_score(y_test,predicted_values)\n",
    "round(r2_score,2)"
   ]
  },
  {
   "cell_type": "markdown",
   "id": "1b14c1ed",
   "metadata": {},
   "source": [
    "### Hence 0.15 is correct option."
   ]
  },
  {
   "cell_type": "markdown",
   "id": "286d0daf",
   "metadata": {},
   "source": [
    "#### Question 17\n",
    "Obtain the feature weights from your linear model above. Which features have the lowest and highest weights respectively?\n",
    "\n",
    "#### Answer 17"
   ]
  },
  {
   "cell_type": "code",
   "execution_count": 54,
   "id": "96c514f0",
   "metadata": {},
   "outputs": [],
   "source": [
    "def weights_df(model,feature,col_name):\n",
    "    weight_dataframe = pd.Series(model.coef_ , feature.columns).sort_values().reset_index()\n",
    "    weight_dataframe.columns = ['Features',col_name]\n",
    "    return weight_dataframe"
   ]
  },
  {
   "cell_type": "code",
   "execution_count": 55,
   "id": "330e82d9",
   "metadata": {},
   "outputs": [],
   "source": [
    "linear_model_weights = weights_df(linear_model, X_train, 'Linear_Model_Weight')"
   ]
  },
  {
   "cell_type": "code",
   "execution_count": 56,
   "id": "f677d95e",
   "metadata": {},
   "outputs": [
    {
     "data": {
      "text/html": [
       "<div>\n",
       "<style scoped>\n",
       "    .dataframe tbody tr th:only-of-type {\n",
       "        vertical-align: middle;\n",
       "    }\n",
       "\n",
       "    .dataframe tbody tr th {\n",
       "        vertical-align: top;\n",
       "    }\n",
       "\n",
       "    .dataframe thead th {\n",
       "        text-align: right;\n",
       "    }\n",
       "</style>\n",
       "<table border=\"1\" class=\"dataframe\">\n",
       "  <thead>\n",
       "    <tr style=\"text-align: right;\">\n",
       "      <th></th>\n",
       "      <th>Features</th>\n",
       "      <th>Linear_Model_Weight</th>\n",
       "    </tr>\n",
       "  </thead>\n",
       "  <tbody>\n",
       "    <tr>\n",
       "      <th>0</th>\n",
       "      <td>RH_2</td>\n",
       "      <td>-0.456698</td>\n",
       "    </tr>\n",
       "    <tr>\n",
       "      <th>1</th>\n",
       "      <td>T_out</td>\n",
       "      <td>-0.321860</td>\n",
       "    </tr>\n",
       "    <tr>\n",
       "      <th>2</th>\n",
       "      <td>T2</td>\n",
       "      <td>-0.236178</td>\n",
       "    </tr>\n",
       "    <tr>\n",
       "      <th>3</th>\n",
       "      <td>T9</td>\n",
       "      <td>-0.189941</td>\n",
       "    </tr>\n",
       "    <tr>\n",
       "      <th>4</th>\n",
       "      <td>RH_8</td>\n",
       "      <td>-0.157595</td>\n",
       "    </tr>\n",
       "    <tr>\n",
       "      <th>5</th>\n",
       "      <td>RH_out</td>\n",
       "      <td>-0.077671</td>\n",
       "    </tr>\n",
       "    <tr>\n",
       "      <th>6</th>\n",
       "      <td>RH_7</td>\n",
       "      <td>-0.044614</td>\n",
       "    </tr>\n",
       "    <tr>\n",
       "      <th>7</th>\n",
       "      <td>RH_9</td>\n",
       "      <td>-0.039800</td>\n",
       "    </tr>\n",
       "    <tr>\n",
       "      <th>8</th>\n",
       "      <td>T5</td>\n",
       "      <td>-0.015657</td>\n",
       "    </tr>\n",
       "    <tr>\n",
       "      <th>9</th>\n",
       "      <td>T1</td>\n",
       "      <td>-0.003281</td>\n",
       "    </tr>\n",
       "    <tr>\n",
       "      <th>10</th>\n",
       "      <td>rv1</td>\n",
       "      <td>0.000770</td>\n",
       "    </tr>\n",
       "    <tr>\n",
       "      <th>11</th>\n",
       "      <td>rv2</td>\n",
       "      <td>0.000770</td>\n",
       "    </tr>\n",
       "    <tr>\n",
       "      <th>12</th>\n",
       "      <td>Press_mm_hg</td>\n",
       "      <td>0.006839</td>\n",
       "    </tr>\n",
       "    <tr>\n",
       "      <th>13</th>\n",
       "      <td>T7</td>\n",
       "      <td>0.010319</td>\n",
       "    </tr>\n",
       "    <tr>\n",
       "      <th>14</th>\n",
       "      <td>Visibility</td>\n",
       "      <td>0.012307</td>\n",
       "    </tr>\n",
       "    <tr>\n",
       "      <th>15</th>\n",
       "      <td>RH_5</td>\n",
       "      <td>0.016006</td>\n",
       "    </tr>\n",
       "    <tr>\n",
       "      <th>16</th>\n",
       "      <td>RH_4</td>\n",
       "      <td>0.026386</td>\n",
       "    </tr>\n",
       "    <tr>\n",
       "      <th>17</th>\n",
       "      <td>T4</td>\n",
       "      <td>0.028981</td>\n",
       "    </tr>\n",
       "    <tr>\n",
       "      <th>18</th>\n",
       "      <td>Windspeed</td>\n",
       "      <td>0.029183</td>\n",
       "    </tr>\n",
       "    <tr>\n",
       "      <th>19</th>\n",
       "      <td>RH_6</td>\n",
       "      <td>0.038049</td>\n",
       "    </tr>\n",
       "    <tr>\n",
       "      <th>20</th>\n",
       "      <td>RH_3</td>\n",
       "      <td>0.096048</td>\n",
       "    </tr>\n",
       "    <tr>\n",
       "      <th>21</th>\n",
       "      <td>T8</td>\n",
       "      <td>0.101995</td>\n",
       "    </tr>\n",
       "    <tr>\n",
       "      <th>22</th>\n",
       "      <td>Tdewpoint</td>\n",
       "      <td>0.117758</td>\n",
       "    </tr>\n",
       "    <tr>\n",
       "      <th>23</th>\n",
       "      <td>T6</td>\n",
       "      <td>0.236425</td>\n",
       "    </tr>\n",
       "    <tr>\n",
       "      <th>24</th>\n",
       "      <td>T3</td>\n",
       "      <td>0.290627</td>\n",
       "    </tr>\n",
       "    <tr>\n",
       "      <th>25</th>\n",
       "      <td>RH_1</td>\n",
       "      <td>0.553547</td>\n",
       "    </tr>\n",
       "  </tbody>\n",
       "</table>\n",
       "</div>"
      ],
      "text/plain": [
       "       Features  Linear_Model_Weight\n",
       "0          RH_2            -0.456698\n",
       "1         T_out            -0.321860\n",
       "2            T2            -0.236178\n",
       "3            T9            -0.189941\n",
       "4          RH_8            -0.157595\n",
       "5        RH_out            -0.077671\n",
       "6          RH_7            -0.044614\n",
       "7          RH_9            -0.039800\n",
       "8            T5            -0.015657\n",
       "9            T1            -0.003281\n",
       "10          rv1             0.000770\n",
       "11          rv2             0.000770\n",
       "12  Press_mm_hg             0.006839\n",
       "13           T7             0.010319\n",
       "14   Visibility             0.012307\n",
       "15         RH_5             0.016006\n",
       "16         RH_4             0.026386\n",
       "17           T4             0.028981\n",
       "18    Windspeed             0.029183\n",
       "19         RH_6             0.038049\n",
       "20         RH_3             0.096048\n",
       "21           T8             0.101995\n",
       "22    Tdewpoint             0.117758\n",
       "23           T6             0.236425\n",
       "24           T3             0.290627\n",
       "25         RH_1             0.553547"
      ]
     },
     "execution_count": 56,
     "metadata": {},
     "output_type": "execute_result"
    }
   ],
   "source": [
    "linear_model_weights"
   ]
  },
  {
   "cell_type": "markdown",
   "id": "5ee6c4c5",
   "metadata": {},
   "source": [
    "Clearly most negative value is of RH_2 and highest value is of RH_1.\n",
    "\n",
    "### RH_2, RH_1 is correct option."
   ]
  },
  {
   "cell_type": "markdown",
   "id": "dfcba8e7",
   "metadata": {},
   "source": [
    "#### Ques 18\n",
    "\n",
    "Train a ridge regression model with an alpha value of 0.4. Is there any change to the root mean squared error (RMSE) when evaluated on the test set?\n",
    "#### Answer 18"
   ]
  },
  {
   "cell_type": "code",
   "execution_count": 57,
   "id": "30003bfa",
   "metadata": {},
   "outputs": [
    {
     "data": {
      "text/plain": [
       "0.088"
      ]
     },
     "execution_count": 57,
     "metadata": {},
     "output_type": "execute_result"
    }
   ],
   "source": [
    "rig_reg = Ridge(alpha = 0.4)\n",
    "rig_reg.fit(X_train,y_train)\n",
    "y_pred = rig_reg.predict(X_test)\n",
    "rmse = np.sqrt(mean_squared_error(y_test,y_pred))\n",
    "round(rmse,3)"
   ]
  },
  {
   "cell_type": "markdown",
   "id": "2d3fe795",
   "metadata": {},
   "source": [
    "No change \n",
    "### Hence, No is correct option."
   ]
  },
  {
   "cell_type": "markdown",
   "id": "c94f57b2",
   "metadata": {},
   "source": [
    "#### Ques 19\n",
    "Train a lasso regression model with an alpha value of 0.001 and obtain the new feature weights with it. How many of the features have non-zero feature weights?\n",
    "#### Answer 19"
   ]
  },
  {
   "cell_type": "code",
   "execution_count": 58,
   "id": "4feac780",
   "metadata": {},
   "outputs": [],
   "source": [
    "lasso_reg = Lasso(alpha=0.001)\n",
    "lasso_reg.fit(X_train, y_train)\n",
    "y_pred1 = lasso_reg.predict(X_test)\n",
    "lasso_weights_df = weights_df(lasso_reg, X_train, 'Lasso_weight')"
   ]
  },
  {
   "cell_type": "code",
   "execution_count": 59,
   "id": "c0b573be",
   "metadata": {},
   "outputs": [
    {
     "data": {
      "text/html": [
       "<div>\n",
       "<style scoped>\n",
       "    .dataframe tbody tr th:only-of-type {\n",
       "        vertical-align: middle;\n",
       "    }\n",
       "\n",
       "    .dataframe tbody tr th {\n",
       "        vertical-align: top;\n",
       "    }\n",
       "\n",
       "    .dataframe thead th {\n",
       "        text-align: right;\n",
       "    }\n",
       "</style>\n",
       "<table border=\"1\" class=\"dataframe\">\n",
       "  <thead>\n",
       "    <tr style=\"text-align: right;\">\n",
       "      <th></th>\n",
       "      <th>Features</th>\n",
       "      <th>Lasso_weight</th>\n",
       "    </tr>\n",
       "  </thead>\n",
       "  <tbody>\n",
       "    <tr>\n",
       "      <th>0</th>\n",
       "      <td>RH_out</td>\n",
       "      <td>-0.049557</td>\n",
       "    </tr>\n",
       "    <tr>\n",
       "      <th>1</th>\n",
       "      <td>RH_8</td>\n",
       "      <td>-0.000110</td>\n",
       "    </tr>\n",
       "    <tr>\n",
       "      <th>2</th>\n",
       "      <td>T1</td>\n",
       "      <td>0.000000</td>\n",
       "    </tr>\n",
       "    <tr>\n",
       "      <th>3</th>\n",
       "      <td>Tdewpoint</td>\n",
       "      <td>0.000000</td>\n",
       "    </tr>\n",
       "    <tr>\n",
       "      <th>4</th>\n",
       "      <td>Visibility</td>\n",
       "      <td>0.000000</td>\n",
       "    </tr>\n",
       "    <tr>\n",
       "      <th>5</th>\n",
       "      <td>Press_mm_hg</td>\n",
       "      <td>-0.000000</td>\n",
       "    </tr>\n",
       "    <tr>\n",
       "      <th>6</th>\n",
       "      <td>T_out</td>\n",
       "      <td>0.000000</td>\n",
       "    </tr>\n",
       "    <tr>\n",
       "      <th>7</th>\n",
       "      <td>RH_9</td>\n",
       "      <td>-0.000000</td>\n",
       "    </tr>\n",
       "    <tr>\n",
       "      <th>8</th>\n",
       "      <td>T9</td>\n",
       "      <td>-0.000000</td>\n",
       "    </tr>\n",
       "    <tr>\n",
       "      <th>9</th>\n",
       "      <td>T8</td>\n",
       "      <td>0.000000</td>\n",
       "    </tr>\n",
       "    <tr>\n",
       "      <th>10</th>\n",
       "      <td>RH_7</td>\n",
       "      <td>-0.000000</td>\n",
       "    </tr>\n",
       "    <tr>\n",
       "      <th>11</th>\n",
       "      <td>rv1</td>\n",
       "      <td>-0.000000</td>\n",
       "    </tr>\n",
       "    <tr>\n",
       "      <th>12</th>\n",
       "      <td>T7</td>\n",
       "      <td>-0.000000</td>\n",
       "    </tr>\n",
       "    <tr>\n",
       "      <th>13</th>\n",
       "      <td>T6</td>\n",
       "      <td>0.000000</td>\n",
       "    </tr>\n",
       "    <tr>\n",
       "      <th>14</th>\n",
       "      <td>RH_5</td>\n",
       "      <td>0.000000</td>\n",
       "    </tr>\n",
       "    <tr>\n",
       "      <th>15</th>\n",
       "      <td>T5</td>\n",
       "      <td>-0.000000</td>\n",
       "    </tr>\n",
       "    <tr>\n",
       "      <th>16</th>\n",
       "      <td>RH_4</td>\n",
       "      <td>0.000000</td>\n",
       "    </tr>\n",
       "    <tr>\n",
       "      <th>17</th>\n",
       "      <td>T4</td>\n",
       "      <td>-0.000000</td>\n",
       "    </tr>\n",
       "    <tr>\n",
       "      <th>18</th>\n",
       "      <td>RH_3</td>\n",
       "      <td>0.000000</td>\n",
       "    </tr>\n",
       "    <tr>\n",
       "      <th>19</th>\n",
       "      <td>T3</td>\n",
       "      <td>0.000000</td>\n",
       "    </tr>\n",
       "    <tr>\n",
       "      <th>20</th>\n",
       "      <td>RH_2</td>\n",
       "      <td>-0.000000</td>\n",
       "    </tr>\n",
       "    <tr>\n",
       "      <th>21</th>\n",
       "      <td>T2</td>\n",
       "      <td>0.000000</td>\n",
       "    </tr>\n",
       "    <tr>\n",
       "      <th>22</th>\n",
       "      <td>RH_6</td>\n",
       "      <td>-0.000000</td>\n",
       "    </tr>\n",
       "    <tr>\n",
       "      <th>23</th>\n",
       "      <td>rv2</td>\n",
       "      <td>-0.000000</td>\n",
       "    </tr>\n",
       "    <tr>\n",
       "      <th>24</th>\n",
       "      <td>Windspeed</td>\n",
       "      <td>0.002912</td>\n",
       "    </tr>\n",
       "    <tr>\n",
       "      <th>25</th>\n",
       "      <td>RH_1</td>\n",
       "      <td>0.017880</td>\n",
       "    </tr>\n",
       "  </tbody>\n",
       "</table>\n",
       "</div>"
      ],
      "text/plain": [
       "       Features  Lasso_weight\n",
       "0        RH_out     -0.049557\n",
       "1          RH_8     -0.000110\n",
       "2            T1      0.000000\n",
       "3     Tdewpoint      0.000000\n",
       "4    Visibility      0.000000\n",
       "5   Press_mm_hg     -0.000000\n",
       "6         T_out      0.000000\n",
       "7          RH_9     -0.000000\n",
       "8            T9     -0.000000\n",
       "9            T8      0.000000\n",
       "10         RH_7     -0.000000\n",
       "11          rv1     -0.000000\n",
       "12           T7     -0.000000\n",
       "13           T6      0.000000\n",
       "14         RH_5      0.000000\n",
       "15           T5     -0.000000\n",
       "16         RH_4      0.000000\n",
       "17           T4     -0.000000\n",
       "18         RH_3      0.000000\n",
       "19           T3      0.000000\n",
       "20         RH_2     -0.000000\n",
       "21           T2      0.000000\n",
       "22         RH_6     -0.000000\n",
       "23          rv2     -0.000000\n",
       "24    Windspeed      0.002912\n",
       "25         RH_1      0.017880"
      ]
     },
     "execution_count": 59,
     "metadata": {},
     "output_type": "execute_result"
    }
   ],
   "source": [
    "lasso_weights_df"
   ]
  },
  {
   "cell_type": "markdown",
   "id": "3a8ed619",
   "metadata": {},
   "source": [
    "#### There are 4 non-zero values hence, 4 is correct option"
   ]
  },
  {
   "cell_type": "markdown",
   "id": "ddff3823",
   "metadata": {},
   "source": [
    "#### Question 20\n",
    "What is the new RMSE with the lasso regression? (Answer should be in three (3) decimal places)"
   ]
  },
  {
   "cell_type": "markdown",
   "id": "7ca42376",
   "metadata": {},
   "source": [
    "#### Answer 20"
   ]
  },
  {
   "cell_type": "code",
   "execution_count": 60,
   "id": "4d93f211",
   "metadata": {},
   "outputs": [
    {
     "data": {
      "text/plain": [
       "0.094"
      ]
     },
     "execution_count": 60,
     "metadata": {},
     "output_type": "execute_result"
    }
   ],
   "source": [
    "rmse = np.sqrt(mean_squared_error(y_test,y_pred1))\n",
    "round(rmse,3)"
   ]
  },
  {
   "cell_type": "markdown",
   "id": "dfd28bcc",
   "metadata": {},
   "source": [
    "### Hence, 0.094 is correct option."
   ]
  },
  {
   "cell_type": "markdown",
   "id": "74274158",
   "metadata": {},
   "source": [
    "\n",
    "\n",
    "## Thank you"
   ]
  }
 ],
 "metadata": {
  "kernelspec": {
   "display_name": "Python 3 (ipykernel)",
   "language": "python",
   "name": "python3"
  },
  "language_info": {
   "codemirror_mode": {
    "name": "ipython",
    "version": 3
   },
   "file_extension": ".py",
   "mimetype": "text/x-python",
   "name": "python",
   "nbconvert_exporter": "python",
   "pygments_lexer": "ipython3",
   "version": "3.9.12"
  }
 },
 "nbformat": 4,
 "nbformat_minor": 5
}
